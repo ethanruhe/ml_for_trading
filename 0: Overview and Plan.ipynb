{
 "cells": [
  {
   "cell_type": "markdown",
   "metadata": {},
   "source": [
    "# Machine Learning for Cryptocurrency Trading\n",
    "## Section 0: Overview\n",
    "This is a crash course on how to use machine learning to inform cryptocurrency trading. The target audience is someone with little prior finance or trading experience, but at least some familiarity with supervised learning techniques. This isn't a comprehensive implementation of cutting-edge techniques, but rather a clean and logical place to start. References to more advanced strategies, especially those aimed specifically at time-series work, will be noted. \n",
    "\n",
    "**The goal is to predict price movements and build a profitable trading strategy based on those predictions.** Data collection and trade execution vary by exchange, but are generally easy either manually or via API, so these won't be covered here. Sample data from GDAX is provided for this course. See [this repo](https://github.com/danpaquin/gdax-python) for a nice Python package for interacting with the [GDAX API](https://docs.gdax.com).\n",
    "\n",
    "### Table of Contents:\n",
    "This course is broken down into [[x]] sections:\n",
    "0. Overview\n",
    "1. Cleaning Raw Trading Data\n",
    "  - Transform API output to a workable dataframe\n",
    "  - Take by-second data and roll it up into larger time segments for modeling at different resolutions\n",
    "2. Engineering Model Features\n",
    "  - Transform the nominal values of raw data into normalized variables which can be used to build generalizable predictive models\n",
    "3. Predicting Price\n",
    "  - Train models on historical data and assess performance based on out-of-sample fit\n",
    "4. Optimizing Trading Strategy\n",
    "  - Given price predictions, use the return assessment framework to iterate through different trading strategies, optimizing for maximum return\n",
    "\n",
    "The repo for this course includes a library that will perform much of the work. The code is in ```/ml_for_trading/ml4t```. This should be a useful jumping point from which you can build your own strategies.\n",
    "\n",
    "### Approach: Inference vs. Prediction\n",
    "Broadly, there are two things you can do with machine learning: \n",
    "- First, you can develop an understanding of how some system works. This is **inference**. The canonical example of this is _\"how does Y change as X changes?\"_ Inference work largely the domain of statistics. The main goal of inference is to develop knowledge in humans\n",
    "- Second, you can make **predictions**. \n",
    "\n",
    "This course is focused almost exclusively on prediction. If you can systematically predict which way the price of a cryptocurrency is going to move and can act efficiently in the market with that information, you will make above-market returns. Ideally, strong inference work would underpin the development of prediction systems; a logical narrative would guide prediction modeling decisions. Here, however, (1) we're aiming for brevity and (2) there aren't really fundamentals to try to infer. Cryptocurrencies aren't _really_ underlying any meaningful utility yet. Before there is adpotion based on utility, any pricing theory seems capricious.\n",
    "\n",
    "### Tools:\n",
    "The code in this course is exclusively Python 3.6. It relies on the popular ```numpy```, ```pandas```, and ```scikit-learn``` libraries."
   ]
  }
 ],
 "metadata": {
  "kernelspec": {
   "display_name": "Python 3",
   "language": "python",
   "name": "python3"
  },
  "language_info": {
   "codemirror_mode": {
    "name": "ipython",
    "version": 3
   },
   "file_extension": ".py",
   "mimetype": "text/x-python",
   "name": "python",
   "nbconvert_exporter": "python",
   "pygments_lexer": "ipython3",
   "version": "3.6.3"
  }
 },
 "nbformat": 4,
 "nbformat_minor": 2
}
