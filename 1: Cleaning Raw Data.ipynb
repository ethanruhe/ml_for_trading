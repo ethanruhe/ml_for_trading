{
 "cells": [
  {
   "cell_type": "markdown",
   "metadata": {},
   "source": [
    "# Machine Learning for Cryptocurrency Trading\n",
    "## Section 1: Cleaning Raw Data\n",
    "Raw trading candle data were extracted via GDAX's API and saved as CSV files. In this section, these raw data are cleaned and prepared for price prediction modeling.\n"
   ]
  },
  {
   "cell_type": "code",
   "execution_count": 1,
   "metadata": {},
   "outputs": [],
   "source": [
    "import numpy as np\n",
    "import pandas as pd\n",
    "import time\n",
    "import matplotlib.pyplot as plt\n",
    "\n",
    "# Viewing options\n",
    "pd.options.display.max_columns = 2000\n",
    "pd.options.display.max_rows = 2000\n",
    "\n",
    "# from course materials in ~/ml4t\n",
    "import ml4t  # e.g., ml4t.TradeData()"
   ]
  },
  {
   "cell_type": "code",
   "execution_count": 2,
   "metadata": {},
   "outputs": [],
   "source": [
    "REPO_PATH = %pwd\n",
    "DATA_PATH = REPO_PATH + \"/data/\"\n",
    "DATA_STARTTIME = '2017-10-01 00:00:00'\n",
    "DATA_ENDTIME   = '2017-11-30 23:59:59'"
   ]
  },
  {
   "cell_type": "code",
   "execution_count": 3,
   "metadata": {},
   "outputs": [
    {
     "data": {
      "text/plain": [
       "DatetimeIndex(['2017-10-01 00:00:00', '2017-10-01 00:00:01',\n",
       "               '2017-10-01 00:00:02', '2017-10-01 00:00:03',\n",
       "               '2017-10-01 00:00:04', '2017-10-01 00:00:05',\n",
       "               '2017-10-01 00:00:06', '2017-10-01 00:00:07',\n",
       "               '2017-10-01 00:00:08', '2017-10-01 00:00:09'],\n",
       "              dtype='datetime64[ns]', freq='S')"
      ]
     },
     "execution_count": 3,
     "metadata": {},
     "output_type": "execute_result"
    }
   ],
   "source": [
    "# Create second-level index for df based on begining and end or data range\n",
    "datetimes = pd.date_range(DATA_STARTTIME, DATA_ENDTIME, freq='s')\n",
    "datetimes[0:10]"
   ]
  },
  {
   "cell_type": "code",
   "execution_count": 4,
   "metadata": {},
   "outputs": [],
   "source": [
    "# Create df with datetimes range as index\n",
    "df_template = pd.DataFrame(index=datetimes)\n",
    "df_template.index.name = 'dt'"
   ]
  },
  {
   "cell_type": "code",
   "execution_count": 5,
   "metadata": {},
   "outputs": [],
   "source": [
    "# Import csv data\n",
    "\n",
    "# Row names\n",
    "USDBTC_COLS = ['dt'\n",
    "               , 'USD-BTC_low'\n",
    "               , 'USD-BTC_high'\n",
    "               , 'USD-BTC_open'\n",
    "               , 'USD-BTC_close'\n",
    "               , 'USD-BTC_coin_volume']\n",
    "\n",
    "# Periods of data\n",
    "PERIODS = ['2017-10', '2017-11']\n",
    "\n",
    "# USDBTC\n",
    "df_USDBTC = pd.DataFrame(columns = USDBTC_COLS)\n",
    "\n",
    "for q in PERIODS:\n",
    "    df_tmp = pd.read_csv(DATA_PATH + str(q) + '_btc-usd_1sec_candles.csv', header=None)\n",
    "    df_tmp.columns = USDBTC_COLS\n",
    "    df_USDBTC = df_USDBTC.append(df_tmp)\n",
    "del df_tmp\n",
    "df_USDBTC['dt'] = pd.to_datetime(df_USDBTC['dt'], unit='s')\n",
    "df_USDBTC = df_USDBTC.set_index('dt')"
   ]
  },
  {
   "cell_type": "code",
   "execution_count": 6,
   "metadata": {},
   "outputs": [
    {
     "data": {
      "text/html": [
       "<div>\n",
       "<style scoped>\n",
       "    .dataframe tbody tr th:only-of-type {\n",
       "        vertical-align: middle;\n",
       "    }\n",
       "\n",
       "    .dataframe tbody tr th {\n",
       "        vertical-align: top;\n",
       "    }\n",
       "\n",
       "    .dataframe thead th {\n",
       "        text-align: right;\n",
       "    }\n",
       "</style>\n",
       "<table border=\"1\" class=\"dataframe\">\n",
       "  <thead>\n",
       "    <tr style=\"text-align: right;\">\n",
       "      <th></th>\n",
       "      <th>USD-BTC_low</th>\n",
       "      <th>USD-BTC_high</th>\n",
       "      <th>USD-BTC_open</th>\n",
       "      <th>USD-BTC_close</th>\n",
       "      <th>USD-BTC_coin_volume</th>\n",
       "    </tr>\n",
       "    <tr>\n",
       "      <th>dt</th>\n",
       "      <th></th>\n",
       "      <th></th>\n",
       "      <th></th>\n",
       "      <th></th>\n",
       "      <th></th>\n",
       "    </tr>\n",
       "  </thead>\n",
       "  <tbody>\n",
       "    <tr>\n",
       "      <th>2017-10-01 00:00:00</th>\n",
       "      <td>4339.01</td>\n",
       "      <td>4339.01</td>\n",
       "      <td>4339.01</td>\n",
       "      <td>4339.01</td>\n",
       "      <td>0.000230</td>\n",
       "    </tr>\n",
       "    <tr>\n",
       "      <th>2017-10-01 00:00:01</th>\n",
       "      <td>4339.01</td>\n",
       "      <td>4339.01</td>\n",
       "      <td>4339.01</td>\n",
       "      <td>4339.01</td>\n",
       "      <td>0.069140</td>\n",
       "    </tr>\n",
       "    <tr>\n",
       "      <th>2017-10-01 00:00:02</th>\n",
       "      <td>4339.01</td>\n",
       "      <td>4339.01</td>\n",
       "      <td>4339.01</td>\n",
       "      <td>4339.01</td>\n",
       "      <td>0.056691</td>\n",
       "    </tr>\n",
       "    <tr>\n",
       "      <th>2017-10-01 00:00:03</th>\n",
       "      <td>NaN</td>\n",
       "      <td>NaN</td>\n",
       "      <td>NaN</td>\n",
       "      <td>NaN</td>\n",
       "      <td>NaN</td>\n",
       "    </tr>\n",
       "    <tr>\n",
       "      <th>2017-10-01 00:00:04</th>\n",
       "      <td>NaN</td>\n",
       "      <td>NaN</td>\n",
       "      <td>NaN</td>\n",
       "      <td>NaN</td>\n",
       "      <td>NaN</td>\n",
       "    </tr>\n",
       "  </tbody>\n",
       "</table>\n",
       "</div>"
      ],
      "text/plain": [
       "                     USD-BTC_low  USD-BTC_high  USD-BTC_open  USD-BTC_close  \\\n",
       "dt                                                                            \n",
       "2017-10-01 00:00:00      4339.01       4339.01       4339.01        4339.01   \n",
       "2017-10-01 00:00:01      4339.01       4339.01       4339.01        4339.01   \n",
       "2017-10-01 00:00:02      4339.01       4339.01       4339.01        4339.01   \n",
       "2017-10-01 00:00:03          NaN           NaN           NaN            NaN   \n",
       "2017-10-01 00:00:04          NaN           NaN           NaN            NaN   \n",
       "\n",
       "                     USD-BTC_coin_volume  \n",
       "dt                                        \n",
       "2017-10-01 00:00:00             0.000230  \n",
       "2017-10-01 00:00:01             0.069140  \n",
       "2017-10-01 00:00:02             0.056691  \n",
       "2017-10-01 00:00:03                  NaN  \n",
       "2017-10-01 00:00:04                  NaN  "
      ]
     },
     "execution_count": 6,
     "metadata": {},
     "output_type": "execute_result"
    }
   ],
   "source": [
    "# Merge data into template df\n",
    "# Using template ensures df has precise index\n",
    "df = df_template.join(df_USDBTC)\n",
    "df.head()"
   ]
  },
  {
   "cell_type": "markdown",
   "metadata": {},
   "source": [
    "### Data Exploration"
   ]
  },
  {
   "cell_type": "code",
   "execution_count": 7,
   "metadata": {},
   "outputs": [
    {
     "name": "stdout",
     "output_type": "stream",
     "text": [
      "Total seconds over time series: 5270400\n",
      "% seconds in time series with USD-BTC trades: 0.3182128491196114\n"
     ]
    }
   ],
   "source": [
    "# Density of data\n",
    "print('Total seconds over time series: {}'.format(df.shape[0]))\n",
    "\n",
    "# % of seconds with trade\n",
    "print('% seconds in time series with {} trades: {}'.format('USD-BTC', df['USD-BTC_low'].notna().sum()/df.shape[0]))"
   ]
  },
  {
   "cell_type": "code",
   "execution_count": 8,
   "metadata": {},
   "outputs": [
    {
     "name": "stdout",
     "output_type": "stream",
     "text": [
      "% of USD-BTC second trade candles w/ multiple prices : 0.1705625573531595\n",
      "Max USD-BTC (high - low)/low : 0.08038442308760624\n",
      "Mean USD-BTC (high - low)/low : 7.391075698540184e-05\n"
     ]
    }
   ],
   "source": [
    "# % of second candles with >0 volume in which high and low price are NOT the same\n",
    "# Range of w/i second price variation: (high - low) / low\n",
    "# Note: the more variation of price w/i a candle, the more likely the USD volume estimate will be incorrect\n",
    "\n",
    "usd_btc_tmp = df.loc[df['USD-BTC_low'].notna(), ['USD-BTC_low', 'USD-BTC_high']]\n",
    "usd_btc_tmp['high_low'] = usd_btc_tmp['USD-BTC_low'] == usd_btc_tmp['USD-BTC_high']\n",
    "usd_btc_tmp['high_low_delta'] = (usd_btc_tmp['USD-BTC_high'] - usd_btc_tmp['USD-BTC_low']) / usd_btc_tmp['USD-BTC_low']\n",
    "print('% of USD-BTC second trade candles w/ multiple prices : {}'.format(1 - usd_btc_tmp['high_low'].mean()))\n",
    "print('Max USD-BTC (high - low)/low : {}'.format(usd_btc_tmp['high_low_delta'].max()))\n",
    "print('Mean USD-BTC (high - low)/low : {}'.format(usd_btc_tmp['high_low_delta'].mean()))\n",
    "\n",
    "del usd_btc_tmp"
   ]
  },
  {
   "cell_type": "markdown",
   "metadata": {},
   "source": [
    "Only 31.8% of seconds have trades. Of those seconds with trades, 17.1% have multiple prices within the second. The highest w/i second variation is 8%, but the mean is 0.007%. Large variation is possible when, for instance, a very large market order is placed and in order to fufill the volume the market moves deep into the outstanding limit order book. \n",
    "\n",
    "The technique used to calculate the USD volume of a second is (open_price + close_price) / 2 * coin_volume. This should usually be quite accurate given the low variation in prices."
   ]
  },
  {
   "cell_type": "markdown",
   "metadata": {},
   "source": [
    "### Clean and Aggregate Data\n",
    "ml4t.TradeData() is used to clean and aggregare the raw data. ```TradeData.clean_df_s()``` method will perform the following:\n",
    " - Fill forward missing data\n",
    "  - For periods without trades, the low, high, open, and close price are set equal to the most recent closing price. Volume is set to 0.\n",
    " - USD volume is calculated as ```(open_price + close_price) / 2 * coin_volume```\n",
    " - Period return percentage is calculated as ```(close_price - open_price) / open_price```\n",
    " - Aggregations of the data are created as the following attributes of the object:\n",
    "  - Minute-level: ```TradeData.df_m```\n",
    "  - Hour-level: ```TradeData.df_h```\n",
    "  - Day-level: ```TradeData.df_d```\n",
    "\n",
    "Note: there may be leading NaNs in these series which can cause issues down the line. A note on how many leading NaN periods there are will be printed."
   ]
  },
  {
   "cell_type": "code",
   "execution_count": 9,
   "metadata": {},
   "outputs": [
    {
     "name": "stdout",
     "output_type": "stream",
     "text": [
      "Note: df has 0 leading NaN periods.\n",
      "Second-level data have been cleaned and are accessible as .df_s\n",
      "Minute, hour, and day-level data are available as .df_m, .df_h, and .df_d, respectively.\n"
     ]
    }
   ],
   "source": [
    "trade_data = ml4t.TradeData(df)\n",
    "trade_data.clean_df_s()"
   ]
  },
  {
   "cell_type": "code",
   "execution_count": null,
   "metadata": {},
   "outputs": [],
   "source": []
  },
  {
   "cell_type": "code",
   "execution_count": null,
   "metadata": {},
   "outputs": [],
   "source": [
    "\n",
    "\n",
    "\n",
    "\n",
    "\n",
    "\n",
    "\n",
    "\n",
    "\n",
    "\n",
    "\n",
    "\n",
    "\n",
    "\n",
    "\n",
    "\n",
    "\n",
    "\n",
    "\n",
    "\n",
    "\n",
    "\n",
    "\n",
    "\n",
    "\n",
    "\n",
    "\n",
    "\n",
    "\n",
    "\n",
    "\n",
    "\n",
    "\n",
    "\n",
    "\n"
   ]
  }
 ],
 "metadata": {
  "kernelspec": {
   "display_name": "Python 3",
   "language": "python",
   "name": "python3"
  },
  "language_info": {
   "codemirror_mode": {
    "name": "ipython",
    "version": 3
   },
   "file_extension": ".py",
   "mimetype": "text/x-python",
   "name": "python",
   "nbconvert_exporter": "python",
   "pygments_lexer": "ipython3",
   "version": "3.6.3"
  }
 },
 "nbformat": 4,
 "nbformat_minor": 2
}
